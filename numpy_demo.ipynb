{
 "cells": [
  {
   "cell_type": "markdown",
   "metadata": {},
   "source": [
    "# NumPy\n",
    "## Introduction\n",
    "NumPy is a Python package for scientific computing that contains:\n",
    "* multi-dimensional arrays and supporting functions\n",
    "* basic linear algebra functions\n",
    "* basic Fourier transforms\n",
    "\n",
    "NumPy is intended to improve ease and efficiency of data handling and calculation.\n",
    "\n",
    "Full documentation can be found at <https://numpy.org/doc/stable/index.html>."
   ]
  },
  {
   "cell_type": "markdown",
   "metadata": {},
   "source": [
    "## Instructions\n",
    "Read through this Jupyter Notebook.  Execute the code cells to see the result.  Feel free to modify these cells, or add new cells, to experiment with the functionality.  \n",
    "\n",
    "In the **Task** sections, add the necessary code to complete the task."
   ]
  },
  {
   "cell_type": "markdown",
   "metadata": {},
   "source": [
    "## Importing NumPy\n",
    "NumPy comes as a default package with Anaconda.  If you are not using Anaconda/Spyder, you will need to install `numpy` in your virtual environment.  To access `numpy` in your code, you need to `import` it, as follows."
   ]
  },
  {
   "cell_type": "code",
   "execution_count": null,
   "metadata": {},
   "outputs": [],
   "source": [
    "import numpy as np"
   ]
  },
  {
   "cell_type": "markdown",
   "metadata": {},
   "source": [
    "The `np` alias is frequently used as a shortcut, so calls can be made such as `a = np.array([0, 1, 2, 3])`"
   ]
  },
  {
   "cell_type": "markdown",
   "metadata": {},
   "source": [
    "## Creating NumPy Arrays\n",
    "### `array()`\n",
    "If you have an array like structure in Python, such as a list, it can be converted into a NumPy array as follows:"
   ]
  },
  {
   "cell_type": "code",
   "execution_count": null,
   "metadata": {},
   "outputs": [],
   "source": [
    "a = [0, 2, 10, -3, 2.5]  # A python list\n",
    "print(\"a is variable type {}\".format(type(a)))\n",
    "\n",
    "b = np.array(a)\n",
    "print(\"b is variable type {}\".format(type(b)))"
   ]
  },
  {
   "cell_type": "markdown",
   "metadata": {},
   "source": [
    "Note that the type of variable contained in the array will depend on the data used to create the array."
   ]
  },
  {
   "cell_type": "code",
   "execution_count": null,
   "metadata": {},
   "outputs": [],
   "source": [
    "c = np.array([0, 1, 2])\n",
    "print(\"The 'c' numpy array is {}\".format(c))\n",
    "print(\"The type of variable in the 'c' array is {}\".format(type(c[0])))\n",
    "\n",
    "d = np.array([0, 1, 2.4])\n",
    "print(\"The 'd' numpy array is {}\".format(d))\n",
    "print(\"The type of variable in the 'd' array is {}\".format(type(d[0])))\n",
    "\n",
    "d1 = np.array([\"hello\", \"goodbye\"])\n",
    "print(\"The 'd1' numpy array is {}\".format(d1))\n",
    "print(\"The  type of variable in the 'd1' array is {}\".format(type(d1[0])))"
   ]
  },
  {
   "cell_type": "markdown",
   "metadata": {},
   "source": [
    "Note that integers are printed without a decimal point by NumPy.  Floats are printed with the decimal point.\n",
    "\n",
    "Also, it is not common for strings to be used in NumPy arrays as the mathmatical functions in NumPy don't\n",
    "provide much benefit for strings.  But, they can be used.\n",
    "\n",
    "### `zeros()` and `ones()`\n",
    "These two NumPy functions will create a new array filled with either zeros or ones of type `float`"
   ]
  },
  {
   "cell_type": "code",
   "execution_count": null,
   "metadata": {},
   "outputs": [],
   "source": [
    "e = np.zeros(5)\n",
    "f = np.ones(8)\n",
    "print(e)\n",
    "print(f)"
   ]
  },
  {
   "cell_type": "markdown",
   "metadata": {},
   "source": [
    "### `arange()`\n",
    "The `arange()` function in NumPy will create an array with regularly incrementing values.  Examples:"
   ]
  },
  {
   "cell_type": "code",
   "execution_count": null,
   "metadata": {},
   "outputs": [],
   "source": [
    "g = np.arange(10)\n",
    "print(g)\n",
    "\n",
    "h = np.arange(2, 4, 0.2)\n",
    "print(h)"
   ]
  },
  {
   "cell_type": "markdown",
   "metadata": {},
   "source": [
    "### Task\n",
    "In the cell below,\n",
    "\n",
    "a. generate a NumPy array of the odd numbers from 3 to 13\n",
    "\n",
    "b. generate a NumPy array counting down from 10 to 0"
   ]
  },
  {
   "cell_type": "code",
   "execution_count": null,
   "metadata": {},
   "outputs": [],
   "source": [
    "# Enter your code here\n"
   ]
  },
  {
   "cell_type": "markdown",
   "metadata": {},
   "source": [
    "### `linspace()`\n",
    "As its name implies, `linspace(a, b, c)` creates an array of linearly spaced values between two given values (`a` and `b`) and the number of elements in the array is specified by a third value (`c`).  Example:"
   ]
  },
  {
   "cell_type": "code",
   "execution_count": null,
   "metadata": {},
   "outputs": [],
   "source": [
    "i = np.linspace(1, 4, 6)\n",
    "print(i)"
   ]
  },
  {
   "cell_type": "markdown",
   "metadata": {},
   "source": [
    "In the example above, an array of 6 members is generated with equally spaced values from 1 to 4."
   ]
  },
  {
   "cell_type": "markdown",
   "metadata": {},
   "source": [
    "### Task\n",
    "In the cell below, generate a list of 15 numbers equally spaced from 10 to 20."
   ]
  },
  {
   "cell_type": "code",
   "execution_count": null,
   "metadata": {},
   "outputs": [],
   "source": [
    "# Enter your code here"
   ]
  },
  {
   "cell_type": "markdown",
   "metadata": {},
   "source": [
    "## Multi-Dimensional Arrays\n",
    "One of the improved functionality of NumPy arrays versus typical Python data structures is the ability to create multi-dimensional arrays."
   ]
  },
  {
   "cell_type": "code",
   "execution_count": null,
   "metadata": {},
   "outputs": [],
   "source": [
    "one_d = np.zeros(10)\n",
    "two_d = np.zeros((3, 5))  # Note that a tuple is required when more than 1 dimension is given\n",
    "\n",
    "print(\"A one dimensional array:\")\n",
    "print(one_d)\n",
    "print(\"A two dimensional array:\")\n",
    "print(two_d)"
   ]
  },
  {
   "cell_type": "markdown",
   "metadata": {},
   "source": [
    "## Array Indexing\n",
    "### 1-D arrays\n",
    "Similar to lists in Python, the elements in a NumPy array are referenced using `[]` with the first element being 0.\n",
    "Example:"
   ]
  },
  {
   "cell_type": "code",
   "execution_count": null,
   "metadata": {},
   "outputs": [],
   "source": [
    "j = np.array([2, 3, 4, 5, 6, 7, 8, 9])\n",
    "print(j[0])\n",
    "print(j[3])"
   ]
  },
  {
   "cell_type": "markdown",
   "metadata": {},
   "source": [
    "You can also count backwards from the end of the array with the `-1` index being the last element of the array."
   ]
  },
  {
   "cell_type": "code",
   "execution_count": null,
   "metadata": {},
   "outputs": [],
   "source": [
    "print(j[-1])\n",
    "print(j[-3])"
   ]
  },
  {
   "cell_type": "markdown",
   "metadata": {},
   "source": [
    "You can index sections of the array, such as `3:6`, that follows Python convention and returns the elements starting at 3 and ending with the element before 6."
   ]
  },
  {
   "cell_type": "code",
   "execution_count": null,
   "metadata": {},
   "outputs": [],
   "source": [
    "print(j[3:6])"
   ]
  },
  {
   "cell_type": "markdown",
   "metadata": {},
   "source": [
    "### Task\n",
    "In the cell below, \n",
    "* generate a one-dimentional NumPy array with all the multiples of 5 from 5 to 95\n",
    "* reference this array using an index to print out the value 35\n",
    "* reference this array to print out the values from 50 to 65"
   ]
  },
  {
   "cell_type": "code",
   "execution_count": null,
   "metadata": {},
   "outputs": [],
   "source": [
    "# Enter your code here"
   ]
  },
  {
   "cell_type": "markdown",
   "metadata": {},
   "source": [
    "### 2-D arrays\n",
    "See the various examples below for indexing two-dimensional arrays."
   ]
  },
  {
   "cell_type": "code",
   "execution_count": null,
   "metadata": {},
   "outputs": [],
   "source": [
    "k0 = [0, 1, 2, 3]\n",
    "k1 = [4, 5, 6, 7]\n",
    "k2 = [8, 9, 10, 11]\n",
    "k3 = [12, 13, 14, 15]\n",
    "k = np.array([k0, k1, k2, k3])\n",
    "print(\"k is:\")\n",
    "print(k)\n",
    "print(\"\")\n",
    "\n",
    "print('k[1, 3] is {}'.format(k[1, 3]))\n",
    "print('k[3, 1] is {}'.format(k[3, 1]))\n",
    "print('k[2, -1] is {}'.format(k[2, -1]))\n",
    "print('k[2, :] is {}'.format(k[2, :]))\n",
    "print('k[:, 2] is {}'.format(k[:, 2]))"
   ]
  },
  {
   "cell_type": "markdown",
   "metadata": {},
   "source": [
    "### Task\n",
    "In the cell below:\n",
    "* Generate and print a two-dimensional array that looks like this:\n",
    "```\n",
    "1 0 2\n",
    "2 1 1\n",
    "3 2 0\n",
    "```\n",
    "* Using an index to this array, print out the value `3`\n",
    "* Using an index to this array, print out the row `2 1 1`\n",
    "* Using an index to this array, print out the row\n",
    "```\n",
    "1\n",
    "2\n",
    "3\n",
    "```\n",
    "* If you want a challenge, write a loop to print out the diagonal `1 1 0`\n"
   ]
  },
  {
   "cell_type": "code",
   "execution_count": null,
   "metadata": {},
   "outputs": [],
   "source": [
    "# Enter your code here"
   ]
  },
  {
   "cell_type": "markdown",
   "metadata": {},
   "source": [
    "## Math on Arrays\n",
    "See some of the examples below for how math can be done on arrays."
   ]
  },
  {
   "cell_type": "code",
   "execution_count": null,
   "metadata": {},
   "outputs": [],
   "source": [
    "x = np.arange(0, 5, 0.5)\n",
    "print(x)"
   ]
  },
  {
   "cell_type": "code",
   "execution_count": null,
   "metadata": {},
   "outputs": [],
   "source": [
    "y = x + 5\n",
    "print(y)"
   ]
  },
  {
   "cell_type": "code",
   "execution_count": null,
   "metadata": {},
   "outputs": [],
   "source": [
    "y = x * 5\n",
    "print(y)"
   ]
  },
  {
   "cell_type": "code",
   "execution_count": null,
   "metadata": {},
   "outputs": [],
   "source": [
    "y = np.sin(x)\n",
    "print(y)"
   ]
  },
  {
   "cell_type": "code",
   "execution_count": null,
   "metadata": {},
   "outputs": [],
   "source": [
    "x1 = np.array([0, 1, 0, 0.5, 0, 1])\n",
    "x2 = np.array([1, 2, 3, 4, 5, 6])\n",
    "y = x1 * x2\n",
    "print(y)\n"
   ]
  },
  {
   "cell_type": "code",
   "execution_count": null,
   "metadata": {},
   "outputs": [],
   "source": [
    "print(np.pi * x)\n",
    "print(np.degrees(np.pi * x))\n",
    "print(np.radians(180))"
   ]
  },
  {
   "cell_type": "markdown",
   "metadata": {},
   "source": [
    "### Task\n",
    "In the cell below,\n",
    "1. create and print an array with 10 elements that ranges from 0 to pi\n",
    "2. create and print an array with the sine of the values from step 1\n",
    "3. create and print an array with the cosine of the values from step 1\n",
    "4. create and print an array with the tangent of the values from step 1\n",
    "5. create and print an array where the step 2 array is divided by the step 3 array\n",
    "6. create and print an array with the difference between the step 5 array and the step 4 array "
   ]
  },
  {
   "cell_type": "code",
   "execution_count": null,
   "metadata": {},
   "outputs": [],
   "source": [
    "# Enter your code here"
   ]
  },
  {
   "cell_type": "markdown",
   "source": [
    "## Reading Data From Files\n",
    "NumPy can create arrays from data in a text file.  The file `text_data.csv` contains three numbers on each line, separated by commas.  It has a header row.  The following NumPy commands read in the data.  (See https://numpy.org/doc/stable/reference/generated/numpy.genfromtxt.html for more info)."
   ],
   "metadata": {
    "collapsed": false
   }
  },
  {
   "cell_type": "code",
   "execution_count": null,
   "outputs": [],
   "source": [
    "data = np.genfromtxt(\"text_data.csv\", delimiter=',', skip_header=1)\n",
    "time = data[:, 0]\n",
    "curve1 = data[:, 1]\n",
    "curve2 = data[:, 2]\n",
    "print(time)\n",
    "print(curve1)\n",
    "print(curve2)"
   ],
   "metadata": {
    "collapsed": false
   }
  }
 ],
 "metadata": {
  "kernelspec": {
   "display_name": "Python 3",
   "language": "python",
   "name": "python3"
  },
  "language_info": {
   "codemirror_mode": {
    "name": "ipython",
    "version": 3
   },
   "file_extension": ".py",
   "mimetype": "text/x-python",
   "name": "python",
   "nbconvert_exporter": "python",
   "pygments_lexer": "ipython3",
   "version": "3.8.3"
  }
 },
 "nbformat": 4,
 "nbformat_minor": 4
}
