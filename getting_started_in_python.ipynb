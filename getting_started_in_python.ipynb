{
 "cells": [
  {
   "cell_type": "markdown",
   "source": [
    "# Getting Started In Python\n",
    "\n",
    "This notebook provides a very brief introduction to Python to get you started.  It assumes a basic understanding of programming.  Execute each code block to see the outcome."
   ],
   "metadata": {
    "collapsed": false
   }
  },
  {
   "cell_type": "markdown",
   "source": [
    "## Writing a Python Script\n",
    "A Python script contains a series of Python commands.  These commands are contained in a text file with a `*.py` extension.  Or, you can use a Jupyter notebook such as this one in which you enter Python commands.\n",
    "\n",
    "Each Python command is on its own line.  There is no mandatory end-of-line character."
   ],
   "metadata": {
    "collapsed": false
   }
  },
  {
   "cell_type": "code",
   "execution_count": null,
   "outputs": [],
   "source": [
    "print(\"Hello World!\")\n",
    "print(\"This is my first Python code.\")"
   ],
   "metadata": {
    "collapsed": false
   }
  },
  {
   "cell_type": "markdown",
   "source": [
    "If a line ends and still has an open element (i.e., `(`, `{`, `[`) with out a closing partner, the next line is considered to be a continuation of the current line.  In the following example, Python considers these two lines as one line of code because there is still an open parenthesis at the end of the first line."
   ],
   "metadata": {
    "collapsed": false
   }
  },
  {
   "cell_type": "code",
   "execution_count": null,
   "outputs": [],
   "source": [
    "import math\n",
    "a = 1\n",
    "b = -4\n",
    "c = 4\n",
    "root1 = (-b + math.sqrt(b**2 - 4 * a * c)\n",
    "         ) / (2 * a)\n",
    "print(root1)"
   ],
   "metadata": {
    "collapsed": false
   }
  },
  {
   "cell_type": "markdown",
   "source": [
    "## Variables\n",
    "Variable assignment in Python, as in most languages, uses the `=` sign."
   ],
   "metadata": {
    "collapsed": false
   }
  },
  {
   "cell_type": "code",
   "execution_count": null,
   "outputs": [],
   "source": [
    "section_1_students = 20\n",
    "section_2_students = 12\n",
    "total_students = section_1_students + section_2_students\n",
    "%whos"
   ],
   "metadata": {
    "collapsed": false
   }
  },
  {
   "cell_type": "markdown",
   "source": [
    "Note:  The `%whos` command lists all active variables in the Jupyter notebook.\n",
    "\n",
    "Python uses either the single (`'`) or double (`\"`) quotes for strings."
   ],
   "metadata": {
    "collapsed": false
   }
  },
  {
   "cell_type": "code",
   "execution_count": null,
   "outputs": [],
   "source": [
    "my_output = \"Press Enter to continue\"\n",
    "error_msg = 'You cannot enter a number in this field.'\n",
    "print(my_output)\n",
    "print(error_msg)"
   ],
   "metadata": {
    "collapsed": false
   }
  },
  {
   "cell_type": "markdown",
   "source": [
    "Variables can contain a wide range of data types as described in\n",
    "[Python Data Types](python_data_types.ipynb)."
   ],
   "metadata": {
    "collapsed": false
   }
  },
  {
   "cell_type": "markdown",
   "source": [
    "## Code Blocks\n",
    "In many programming languages, code blocks are defined using symbols such as `{}` or `BEGIN/END` statements.  In Python, code blocks are defined by indentation.  In the example below, the code that should be run when the `if` statement is true is indicated by the indented code."
   ],
   "metadata": {
    "collapsed": false
   }
  },
  {
   "cell_type": "code",
   "execution_count": null,
   "outputs": [],
   "source": [
    "section_1_students = 20\n",
    "section_2_students = 12\n",
    "total_students = section_1_students + section_2_students\n",
    "print(\"The total number of students is {}.\".format(total_students))\n",
    "if total_students >= 50:\n",
    "    print(\"This class needs additional TAs.\")\n",
    "    additional_TA = True\n",
    "print(\"This line will always print\")"
   ],
   "metadata": {
    "collapsed": false
   }
  },
  {
   "cell_type": "markdown",
   "source": [
    "Since `total_students` will not be greater than or equal to 50, the two lines that are indented will not be executed.  However, the `print(\"This line will always print\")` command will be executed because it is no longer indented. Note that a colon (`:`) is always used on the line before a code block to indicate that a new code block is being started.\n",
    "\n",
    "**Note:** The first `print` statement above uses the `.format()` method of a string to insert the value of the `total_students` variable in place of the `{}` placeholder in the string.\n"
   ],
   "metadata": {
    "collapsed": false
   }
  },
  {
   "cell_type": "markdown",
   "source": [
    "## Basic Flow Control\n",
    "### `if` statement\n",
    "The basic format of an `if` statement is as follows:\n"
   ],
   "metadata": {
    "collapsed": false
   }
  },
  {
   "cell_type": "code",
   "execution_count": null,
   "outputs": [],
   "source": [
    "boolean_condition_to_check = True\n",
    "\n",
    "if boolean_condition_to_check:\n",
    "    print(\"Enter lines here to execute if the condition to check is true\")\n",
    "else:\n",
    "    print(\"Enter lines here to execute if the condition to check is false\")"
   ],
   "metadata": {
    "collapsed": false
   }
  },
  {
   "cell_type": "markdown",
   "source": [
    "If you want to check for different conditions, use the additional `elif` block."
   ],
   "metadata": {
    "collapsed": false
   }
  },
  {
   "cell_type": "code",
   "execution_count": null,
   "outputs": [],
   "source": [
    "x = -2\n",
    "\n",
    "if x < 0:\n",
    "    print(\"Negative Number\")\n",
    "elif x > 0:\n",
    "    print(\"Positive Number\")\n",
    "else:\n",
    "    print(\"Number is Zero\")"
   ],
   "metadata": {
    "collapsed": false
   }
  },
  {
   "cell_type": "markdown",
   "source": [
    "#### Checking equality\n",
    "In Python, a single equal sign (`=`) is used to assign a variable a value.  To check if a variable is equal to a particular value, a double equal sign ('==') is used.  Examples:"
   ],
   "metadata": {
    "collapsed": false
   }
  },
  {
   "cell_type": "code",
   "execution_count": null,
   "outputs": [],
   "source": [
    "x = 3\n",
    "print(x == 3)\n",
    "print(x == 4)"
   ],
   "metadata": {
    "collapsed": false
   }
  },
  {
   "cell_type": "markdown",
   "source": [
    "To check for the \"not equals\" case, use the `!=` operator.  To continue on the above example:\n"
   ],
   "metadata": {
    "collapsed": false
   }
  },
  {
   "cell_type": "code",
   "execution_count": null,
   "outputs": [],
   "source": [
    "print(x != 3)\n",
    "print(x != 5)"
   ],
   "metadata": {
    "collapsed": false
   }
  },
  {
   "cell_type": "markdown",
   "source": [
    "### `while` loop\n",
    "The basic format of a `while` loop is:\n",
    "```\n",
    "while boolean_condition:\n",
    "    print(\"Enter code to execute\")\n",
    "```\n",
    "\n",
    "Here is an example:"
   ],
   "metadata": {
    "collapsed": false
   }
  },
  {
   "cell_type": "code",
   "execution_count": null,
   "outputs": [],
   "source": [
    "import random\n",
    "x = 0\n",
    "while x != 4:\n",
    "    x = random.randint(1, 10)\n",
    "    print(x)\n",
    "print(\"Program finished.\")\n"
   ],
   "metadata": {
    "collapsed": false
   }
  },
  {
   "cell_type": "markdown",
   "source": [
    "### `for` loop\n",
    "A `for` loop can be used to iterate over a collection of things.  The basic format is:\n",
    "```\n",
    "for variable in collection:\n",
    "    # Enter Code to act on the contents of the \"variable\"\n",
    "```\n",
    "In each iteration of the for loop, an item from the `collection` is put into the `variable` and then the code inside the code block is executed.\n",
    "\n",
    "For example:"
   ],
   "metadata": {
    "collapsed": false
   }
  },
  {
   "cell_type": "code",
   "execution_count": null,
   "outputs": [],
   "source": [
    "temperatures = [98.6, 97.5, 102.3, 99.8]\n",
    "for t in temperatures:\n",
    "    print(\"The patient's temperature is {}\".format(t))\n",
    "    if t >= 100.5:\n",
    "        print(\"The patient has a fever\")\n",
    "    else:\n",
    "        print(\"The temperature is normal\")"
   ],
   "metadata": {
    "collapsed": false
   }
  },
  {
   "cell_type": "markdown",
   "source": [
    "If you want to iterate over a range of numbers, use the `range` function to generate an iterator:"
   ],
   "metadata": {
    "collapsed": false
   }
  },
  {
   "cell_type": "code",
   "execution_count": null,
   "outputs": [],
   "source": [
    "for i in range(10):\n",
    "    print(i)"
   ],
   "metadata": {
    "collapsed": false
   }
  },
  {
   "cell_type": "markdown",
   "source": [
    "#### Python Indexing\n",
    "As illustrated by the above, Python generally starts counting/indexing at 0. So, using the `temperatures` list shown above, the four entries in the list are indexed from 0 to 3.  Similarly, the `range(10)` command returns an iterator with 10 integers of 0 to 9.  Here is an example using a string where using the index 3 returns the fourth character:"
   ],
   "metadata": {
    "collapsed": false
   }
  },
  {
   "cell_type": "code",
   "execution_count": null,
   "outputs": [],
   "source": [
    "my_name = \"Christopher\"\n",
    "print(my_name[3])"
   ],
   "metadata": {
    "collapsed": false
   }
  },
  {
   "cell_type": "markdown",
   "source": [
    "## Functions\n",
    "When you want to be able to reuse code, you can include that code inside a function that can be called many times.  Specific information can be sent to the function in the form of arguments/parameters.  The function returns information using the `return` command."
   ],
   "metadata": {
    "collapsed": false
   }
  },
  {
   "cell_type": "code",
   "execution_count": null,
   "outputs": [],
   "source": [
    "def is_correct_blood_type(input_string):\n",
    "    rh_factor = input_string[-1]  # Returns the last character of the string\n",
    "    if rh_factor not in [\"+\", \"-\"]:\n",
    "        return False\n",
    "    blood_type = input_string[:-1] # Returns all characters up to but not including the last character\n",
    "    if blood_type not in [\"A\", \"B\", \"AB\", \"O\"]:\n",
    "        return False\n",
    "    return True\n",
    "\n",
    "print(is_correct_blood_type(\"A+\"))\n",
    "print(is_correct_blood_type(\"AB-\"))\n",
    "print(is_correct_blood_type(\"AO+\"))"
   ],
   "metadata": {
    "collapsed": false
   }
  },
  {
   "cell_type": "markdown",
   "source": [
    "Note:  In Jupyter notebooks, functions remain in memory after their cell is executed and can be executed from different code blocks."
   ],
   "metadata": {
    "collapsed": false
   }
  },
  {
   "cell_type": "code",
   "execution_count": null,
   "outputs": [],
   "source": [
    "print(is_correct_blood_type(\"O+\"))"
   ],
   "metadata": {
    "collapsed": false
   }
  }
 ],
 "metadata": {
  "kernelspec": {
   "display_name": "Python 3",
   "language": "python",
   "name": "python3"
  },
  "language_info": {
   "codemirror_mode": {
    "name": "ipython",
    "version": 2
   },
   "file_extension": ".py",
   "mimetype": "text/x-python",
   "name": "python",
   "nbconvert_exporter": "python",
   "pygments_lexer": "ipython2",
   "version": "2.7.6"
  }
 },
 "nbformat": 4,
 "nbformat_minor": 0
}
