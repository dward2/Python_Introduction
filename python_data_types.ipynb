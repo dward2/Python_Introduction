{
 "cells": [
  {
   "cell_type": "markdown",
   "source": [
    "# Python Data Types\n",
    "\n",
    "Python is a dynamically-typed programming language, meaning that you do not\n",
    "need to specifically declare the type of value that is stored in a variable.\n",
    "Rather, Python will determine the correct type and assign it at run time.\n",
    "\n",
    "### Most Common Data Types\n",
    "* `int` - integer numbers\n",
    "* `float` - floating point decimal numbers\n",
    "* `complex` - complex numbers\n",
    "* `bool` - boolean (`True`/`False`)\n",
    "* `strings` - one or more characters, enclosed with either `'` or `\"`\n",
    "* `tuple` - a grouping of one or more Python objects which cannot be changed\n",
    "   once created\n",
    "* `list` - a grouping of one or more Python objects which can be changed\n",
    "* `dict` - a dictionary of key-value pairs which can be changed"
   ],
   "metadata": {
    "collapsed": false
   }
  },
  {
   "cell_type": "markdown",
   "source": [
    "### Numbers (`int`, `float`, `complex`)\n",
    "The type of number in a variable depends on how it was entered or calculated.\n",
    "\n",
    "When an integer is entered with no decimal, it is assumed to be an `int`."
   ],
   "metadata": {
    "collapsed": false
   }
  },
  {
   "cell_type": "code",
   "execution_count": null,
   "outputs": [],
   "source": [
    "a = 3\n",
    "print(a)\n",
    "print(type(a))"
   ],
   "metadata": {
    "collapsed": false
   }
  },
  {
   "cell_type": "markdown",
   "source": [
    "When entered with a decimal point, Python will consider the variable to be a `float`."
   ],
   "metadata": {
    "collapsed": false
   }
  },
  {
   "cell_type": "code",
   "execution_count": null,
   "outputs": [],
   "source": [
    "b = 3.0\n",
    "print(b)\n",
    "print(type(b))"
   ],
   "metadata": {
    "collapsed": false
   }
  },
  {
   "cell_type": "markdown",
   "source": [
    "If a `float` is added to an `int`, the result is a `float`."
   ],
   "metadata": {
    "collapsed": false
   }
  },
  {
   "cell_type": "code",
   "execution_count": null,
   "outputs": [],
   "source": [
    "c = a + 2.1\n",
    "print(c)\n",
    "print(type(c))"
   ],
   "metadata": {
    "collapsed": false
   }
  },
  {
   "cell_type": "markdown",
   "source": [
    "#### Numeric operators\n",
    "In Python, the standard numeric operators are `+`, `-`', `*`, `/`.\n",
    "If a variable is being modified (example: `a = a + 5`), the `+=` shortcut\n",
    "can be used.  Other shortcuts include `-=`, `*=`, `/=`.  One example is shown below.  Try more by adding to the code block."
   ],
   "metadata": {
    "collapsed": false
   }
  },
  {
   "cell_type": "code",
   "execution_count": null,
   "outputs": [],
   "source": [
    "a += 1\n",
    "print(a)"
   ],
   "metadata": {
    "collapsed": false
   }
  },
  {
   "cell_type": "markdown",
   "source": [
    "#### Complex number examples:"
   ],
   "metadata": {
    "collapsed": false
   }
  },
  {
   "cell_type": "code",
   "execution_count": null,
   "outputs": [],
   "source": [
    "import cmath\n",
    "x = cmath.sqrt(-4)\n",
    "print(x)\n",
    "print(type(x))\n",
    "\n",
    "print(\"The real part of x is {}\".format(x.real))\n",
    "print(\"The imagingary part of x is {}\".format(x.imag))\n",
    "\n",
    "z = 5 + 2j\n",
    "print(\"The real part of z is {}\".format(z.real))\n",
    "print(\"The imagingary part of z is {}\".format(z.imag))"
   ],
   "metadata": {
    "collapsed": false
   }
  },
  {
   "cell_type": "markdown",
   "source": [
    "### Boolean (`bool`)\n",
    "Boolean variables can have the value of either `True` or `False`."
   ],
   "metadata": {
    "collapsed": false
   }
  },
  {
   "cell_type": "code",
   "execution_count": null,
   "outputs": [],
   "source": [
    "is_adult = True\n",
    "print(type(is_adult))\n",
    "\n",
    "if is_adult:\n",
    "   print(\"Patient can sign for themselves\")\n",
    "else:\n",
    "   print(\"Parent must sign\")"
   ],
   "metadata": {
    "collapsed": false
   }
  },
  {
   "cell_type": "markdown",
   "source": [
    "### Strings\n",
    "Strings are defined using either single (`'`) or double(`\"`) quotes."
   ],
   "metadata": {
    "collapsed": false
   }
  },
  {
   "cell_type": "code",
   "execution_count": null,
   "outputs": [],
   "source": [
    "my_name = \"Christopher\"\n",
    "print(type(my_name))\n",
    "last_name = 'Robin'\n",
    "print(type(last_name))"
   ],
   "metadata": {
    "collapsed": false
   }
  },
  {
   "cell_type": "markdown",
   "source": [
    "If a string is defined with double quotes, the single quote can be used as a\n",
    "character in the string, and vice versa."
   ],
   "metadata": {
    "collapsed": false
   }
  },
  {
   "cell_type": "code",
   "execution_count": null,
   "outputs": [],
   "source": [
    "possessive = \"Christopher's\"\n",
    "quote = 'She said, \"Where are you?\"'\n",
    "print(possessive)\n",
    "print(quote)"
   ],
   "metadata": {
    "collapsed": false
   }
  },
  {
   "cell_type": "markdown",
   "source": [
    "Strings can be though of as a list of characters and can be \"sliced\" by\n",
    "the index of each character starting at 0."
   ],
   "metadata": {
    "collapsed": false
   }
  },
  {
   "cell_type": "code",
   "execution_count": null,
   "outputs": [],
   "source": [
    "# Print Full String\n",
    "print(my_name)\n",
    "\n",
    "# Returns the character at index 3 (the 4th character)\n",
    "print(my_name[3])\n",
    "\n",
    "# Returns the last character\n",
    "print(my_name[-1])\n",
    "\n",
    "# Returns characters from beginning up to, but not including index 5\n",
    "print(my_name[:5])\n",
    "\n",
    "# Returns characters starting from index 5 to the end\n",
    "print(my_name[5:])\n",
    "\n",
    "# Retursn characters 2 through 4\n",
    "print(my_name[2:5])"
   ],
   "metadata": {
    "collapsed": false
   }
  },
  {
   "cell_type": "markdown",
   "source": [
    "## Tuples (`tuple`)\n",
    "Tuples are collections of items that, once created, cannot be changed.\n",
    "Tuples are defined using `(` and `)`.  The individual members of the tuple can\n",
    "be referenced by index with the first item being index 0.  The data type of\n",
    "items in tuples can vary."
   ],
   "metadata": {
    "collapsed": false
   }
  },
  {
   "cell_type": "code",
   "execution_count": null,
   "outputs": [],
   "source": [
    "my_tuple = (3, 1, 20)\n",
    "print(my_tuple)         # Output:  (3, 1, 20)\n",
    "print(type(my_tuple))   # Output:  <class 'tuple'>\n",
    "print(my_tuple[2])      # Output:  20"
   ],
   "metadata": {
    "collapsed": false
   }
  },
  {
   "cell_type": "markdown",
   "source": [
    "As mentioned, the contents of tuples cannot be modified."
   ],
   "metadata": {
    "collapsed": false
   }
  },
  {
   "cell_type": "code",
   "execution_count": null,
   "outputs": [],
   "source": [
    "my_tuple[1] += 5"
   ],
   "metadata": {
    "collapsed": false
   }
  },
  {
   "cell_type": "markdown",
   "source": [
    "Tuples can contain any data type or combination of data types.  They can also be iterated over in a `for` loop."
   ],
   "metadata": {
    "collapsed": false
   }
  },
  {
   "cell_type": "code",
   "execution_count": null,
   "outputs": [],
   "source": [
    "group = (1, \"Hello\", True, 13.45)\n",
    "\n",
    "for item in group:\n",
    "    print(item)"
   ],
   "metadata": {
    "collapsed": false
   }
  },
  {
   "cell_type": "markdown",
   "source": [
    "### Lists (`list`)\n",
    "Lists are also collections of items, but unlike tuples, lists can be modified.\n",
    "Lists are defined using `[` and `]`."
   ],
   "metadata": {
    "collapsed": false
   }
  },
  {
   "cell_type": "code",
   "execution_count": null,
   "outputs": [],
   "source": [
    "my_list = [3, 1, 20]\n",
    "print(my_list)\n",
    "print(type(my_list))\n",
    "my_list[1] += 5\n",
    "print(my_list)"
   ],
   "metadata": {
    "collapsed": false
   }
  },
  {
   "cell_type": "markdown",
   "source": [
    "New items can be added to the end of the list using the `.append()` method."
   ],
   "metadata": {
    "collapsed": false
   }
  },
  {
   "cell_type": "code",
   "execution_count": null,
   "outputs": [],
   "source": [
    "my_list.append(2.5)\n",
    "print(my_list)"
   ],
   "metadata": {
    "collapsed": false
   }
  },
  {
   "cell_type": "markdown",
   "source": [
    "Empty lists can be created using `[]`."
   ],
   "metadata": {
    "collapsed": false
   }
  },
  {
   "cell_type": "code",
   "execution_count": null,
   "outputs": [],
   "source": [
    "list_to_hold_data = []\n",
    "print(list_to_hold_data)\n",
    "print(len(list_to_hold_data))\n",
    "list_to_hold_data.append(15)\n",
    "print(list_to_hold_data)\n",
    "print(len(list_to_hold_data))"
   ],
   "metadata": {
    "collapsed": false
   }
  },
  {
   "cell_type": "markdown",
   "source": [
    "### Dictionary (`dict`)\n",
    "A dictionary is grouping of key:value pairs.  Instead of using an index to\n",
    "reference members of the collection like in tuples and lists, you use the key.\n",
    "Dictionaries are defined using `{` and `}`."
   ],
   "metadata": {
    "collapsed": false
   }
  },
  {
   "cell_type": "code",
   "execution_count": null,
   "outputs": [],
   "source": [
    "my_dict = {\"name\": \"David Ward\", \"mrn\": 1234234, \"gender\": \"male\"}\n",
    "print(type(my_dict))\n",
    "print(my_dict[\"name\"])"
   ],
   "metadata": {
    "collapsed": false
   }
  },
  {
   "cell_type": "markdown",
   "source": [
    "New entries can be made to a dictionary as follows:"
   ],
   "metadata": {
    "collapsed": false
   }
  },
  {
   "cell_type": "code",
   "execution_count": null,
   "outputs": [],
   "source": [
    "my_dict[\"Attending\"] = \"Dr. Jane Smith\"\n",
    "print(my_dict)"
   ],
   "metadata": {
    "collapsed": false
   }
  },
  {
   "cell_type": "markdown",
   "source": [
    "Empty dictionaries are created using `{}`."
   ],
   "metadata": {
    "collapsed": false
   }
  },
  {
   "cell_type": "code",
   "execution_count": null,
   "outputs": [],
   "source": [
    "new_dict = {}"
   ],
   "metadata": {
    "collapsed": false
   }
  }
 ],
 "metadata": {
  "kernelspec": {
   "display_name": "Python 3",
   "language": "python",
   "name": "python3"
  },
  "language_info": {
   "codemirror_mode": {
    "name": "ipython",
    "version": 2
   },
   "file_extension": ".py",
   "mimetype": "text/x-python",
   "name": "python",
   "nbconvert_exporter": "python",
   "pygments_lexer": "ipython2",
   "version": "2.7.6"
  }
 },
 "nbformat": 4,
 "nbformat_minor": 0
}
