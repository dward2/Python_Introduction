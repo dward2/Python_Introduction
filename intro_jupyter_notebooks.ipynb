{
 "cells": [
  {
   "cell_type": "markdown",
   "source": [
    "# Introduction to Jupyter Notebooks\n",
    "\n",
    "Congratulations.  You have opened up a Jupyter notebook.  This notebook will give you a quick overview of using Jupyter Notebooks.\n",
    "\n",
    "Jupyter notebooks are broken up into cells.  The two main types of cells are Markdown Cells and Code Cells."
   ],
   "metadata": {
    "collapsed": false
   }
  },
  {
   "cell_type": "markdown",
   "source": [
    "## Markdown Cells\n",
    "Markdown cells are used to contain text.  Markdown is a markup language that you can use to add formatting to plain text.  You can create headings, lists, code examples, bolding, italics, etc.  For example:\n",
    "### This is a subheading\n",
    "1. First Item in a List\n",
    "2. Second Item in a List\n",
    "\n",
    "**Bolded Text**\n",
    "*Italicized Text*\n",
    "```\n",
    "print(\"This is a code block example\")\n",
    "if True:\n",
    "    print(\"This line will print\")\n",
    "else:\n",
    "    print(\"This line will not print\")\n",
    "```\n",
    "$\\\\LaTeX$ such as $y = x^2$\n",
    "\n",
    "\n",
    "To see what the actual markdown text looks like, double click on this cell to see the raw text.  When finished, type \"Ctrl-Enter\" to exit the cell.\n",
    "\n",
    "A good intro/summary of markdown can be found at <https://github.com/adam-p/markdown-here/wiki/Markdown-Cheatsheet>."
   ],
   "metadata": {
    "collapsed": false
   }
  },
  {
   "cell_type": "markdown",
   "source": [
    "## Code Cells\n",
    "Code cells, as their name implies, are used to enter Python code.  To enter a code block to make changes, simply click on it.  When you are finished entering your code, you type either \"Shift-Enter\" or \"Ctrl-Enter\" to execute the code.  The shift option will move the cursor to the next cell (or create a new one if one doesn't exist below).  The control option executes the code and the cursor remains in the current code block.\n",
    "Below is a code cell.  Enter it, make some changes, and then type \"Shift-Enter\"."
   ],
   "metadata": {
    "collapsed": false
   }
  },
  {
   "cell_type": "code",
   "execution_count": null,
   "outputs": [],
   "source": [
    "a = 3\n",
    "print(a)"
   ],
   "metadata": {
    "collapsed": false
   }
  },
  {
   "cell_type": "markdown",
   "source": [
    "Notice how after you execute the code block, the results of the code are shown beneath the code.  Variables and anything defined within a code block are stored in memory and can be access by other code blocks.  For example, the code block below remembers the value of `a` from the code block above."
   ],
   "metadata": {
    "collapsed": false
   }
  },
  {
   "cell_type": "code",
   "execution_count": null,
   "outputs": [],
   "source": [
    "a += 1\n",
    "print(a)"
   ],
   "metadata": {
    "collapsed": false
   }
  },
  {
   "cell_type": "markdown",
   "source": [
    "Code blocks can be executed in any order.  Generally, they are written to be executed in the order they are found in the notebook, but you can actually execute them in any order you wish by choosing a cell and running it.  There is an option in the tool bar above to run all cells (the double arrows), which will start at the top and run each cell in order as found in the document.\n",
    "\n",
    "If you want to restart and clear all of the existing results, there is an option in the tool bar to restart the kernel and run all cells."
   ],
   "metadata": {
    "collapsed": false
   }
  },
  {
   "cell_type": "markdown",
   "source": [
    "## Adding Cells / Changing Cell Type\n",
    "\n",
    "New cells can be added using the plus button in the toolbar or the insert menu.  The type of cell can be selected or changed by using the dropdown menu in the toolbar.\n",
    "\n",
    "## Saving / Exiting\n",
    "\n",
    "You can save your Jupyter notebook using either the save button in the toolbar or via the File menu.  The name can be changed by clicking on the notebook name at the top of the page.\n",
    "\n",
    "## New notebooks\n",
    "New notebooks can be created from the initial Jupyter notebook screen with the file tree.  There is a \"New\" button in the upper right."
   ],
   "metadata": {
    "collapsed": false
   }
  }
 ],
 "metadata": {
  "kernelspec": {
   "display_name": "Python 3",
   "language": "python",
   "name": "python3"
  },
  "language_info": {
   "codemirror_mode": {
    "name": "ipython",
    "version": 2
   },
   "file_extension": ".py",
   "mimetype": "text/x-python",
   "name": "python",
   "nbconvert_exporter": "python",
   "pygments_lexer": "ipython2",
   "version": "2.7.6"
  }
 },
 "nbformat": 4,
 "nbformat_minor": 0
}
